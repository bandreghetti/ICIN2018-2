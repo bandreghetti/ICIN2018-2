{
 "cells": [
  {
   "cell_type": "code",
   "execution_count": 1,
   "metadata": {
    "ExecuteTime": {
     "end_time": "2016-06-06T03:56:03.964000",
     "start_time": "2016-06-06T03:56:02.946000"
    },
    "collapsed": false
   },
   "outputs": [],
   "source": [
    "import numpy as np\n",
    "import matplotlib.pyplot as plt\n",
    "%matplotlib inline"
   ]
  },
  {
   "cell_type": "code",
   "execution_count": 2,
   "metadata": {
    "ExecuteTime": {
     "end_time": "2016-06-06T03:56:04.242000",
     "start_time": "2016-06-06T03:56:03.966000"
    },
    "collapsed": false
   },
   "outputs": [
    {
     "data": {
      "image/png": "[encoded data removed]",
      "text/plain": [
       "<matplotlib.figure.Figure at 0x5c31490>"
      ]
     },
     "metadata": {},
     "output_type": "display_data"
    }
   ],
   "source": [
    "from environment import MazeEnv\n",
    "mx = 5\n",
    "my = 5\n",
    "np.random.seed(8)\n",
    "# TODO: Calculate max_reward_treasure dependend on metric for complexity of the maze, eg mx*my or distance of treasure\n",
    "env = MazeEnv(mx, my, max_reward_treasure=1000., reward_wall=0., observation_type='image')\n",
    "env.reset()\n",
    "env.render()"
   ]
  },
  {
   "cell_type": "code",
   "execution_count": 3,
   "metadata": {
    "ExecuteTime": {
     "end_time": "2016-06-06T03:56:05.139000",
     "start_time": "2016-06-06T03:56:04.807000"
    },
    "collapsed": false
   },
   "outputs": [
    {
     "name": "stdout",
     "output_type": "stream",
     "text": [
      "This is what the neural network sees:\n"
     ]
    },
    {
     "data": {
      "text/plain": [
       "<matplotlib.image.AxesImage at 0x5d6ed90>"
      ]
     },
     "execution_count": 3,
     "metadata": {},
     "output_type": "execute_result"
    },
    {
     "data": {
      "image/png": "[encoded data removed]",
      "text/plain": [
       "<matplotlib.figure.Figure at 0x5b42f70>"
      ]
     },
     "metadata": {},
     "output_type": "display_data"
    }
   ],
   "source": [
    "print 'This is what the neural network sees:'\n",
    "plt.imshow(env.reset().T, interpolation='None', origin='lower', cmap='Greys')"
   ]
  },
  {
   "cell_type": "code",
   "execution_count": 4,
   "metadata": {
    "ExecuteTime": {
     "end_time": "2016-06-06T03:56:16.054000",
     "start_time": "2016-06-06T03:56:08.650000"
    },
    "collapsed": false
   },
   "outputs": [
    {
     "name": "stderr",
     "output_type": "stream",
     "text": [
      "Using Theano backend.\n",
      "D:\\Python\\27_32bit\\lib\\site-packages\\theano\\tensor\\signal\\downsample.py:5: UserWarning: downsample module has been moved to the pool module.\n",
      "  warnings.warn(\"downsample module has been moved to the pool module.\")\n"
     ]
    },
    {
     "name": "stdout",
     "output_type": "stream",
     "text": [
      "Couldn't import dot_parser, loading of dot files will not be possible.\n"
     ]
    }
   ],
   "source": [
    "from keras.models import Sequential\n",
    "from keras.layers import Dense\n",
    "from keras.optimizers import SGD\n",
    "model = Sequential()\n",
    "model.add(Dense(20, input_dim=mx*my, activation='relu'))  # TODO: Use input as 2d array.\n",
    "model.add(Dense(20, activation='relu'))  # TODO: Use input as 2d array.\n",
    "model.add(Dense(4))\n",
    "model.compile(SGD(lr=0.004), 'mse')"
   ]
  },
  {
   "cell_type": "code",
   "execution_count": 5,
   "metadata": {
    "ExecuteTime": {
     "end_time": "2016-06-06T03:56:16.066000",
     "start_time": "2016-06-06T03:56:16.057000"
    },
    "collapsed": true
   },
   "outputs": [],
   "source": [
    "# epsilon = 0.2  # probability to choose random action instead of best action\n",
    "gamma = 0.95\n",
    "batch_size = 150\n",
    "# memory_size = 1000\n",
    "max_num_steps = 400"
   ]
  },
  {
   "cell_type": "code",
   "execution_count": 6,
   "metadata": {
    "ExecuteTime": {
     "end_time": "2016-06-06T03:56:22.458000",
     "start_time": "2016-06-06T03:56:22.454000"
    },
    "collapsed": true
   },
   "outputs": [],
   "source": [
    "memory = []\n",
    "memory_lens = []\n",
    "history = []\n",
    "loss = []\n",
    "total_rewards = []\n",
    "heatmap = np.zeros((mx, my))"
   ]
  },
  {
   "cell_type": "code",
   "execution_count": 7,
   "metadata": {
    "ExecuteTime": {
     "end_time": "2016-06-06T04:00:22.579000",
     "start_time": "2016-06-06T03:57:08.604000"
    },
    "collapsed": false
   },
   "outputs": [
    {
     "name": "stdout",
     "output_type": "stream",
     "text": [
      "Epoch 0 - loss 0.99112612009 - solved in 23 steps - final reward 43.4782608696 - total reward 43.4782608696\n",
      "Epoch 1 - loss 10.4784126282 - solved in 57 steps - final reward 17.5438596491 - total reward 17.5438596491\n",
      "Epoch 2 - loss 4.63638114929 - solved in 90 steps - final reward 11.1111111111 - total reward 11.1111111111\n",
      "Epoch 3 - loss 2.84004354477 - solved in 75 steps - final reward 13.3333333333 - total reward 13.3333333333\n",
      "Epoch 4 - loss 2.20874905586 - solved in 139 steps - final reward 7.19424460432 - total reward 7.19424460432\n",
      "Epoch 5 - loss 1.43972611427 - solved in 67 steps - final reward 14.9253731343 - total reward 14.9253731343\n",
      "Epoch 6 - loss 1.76654088497 - solved in 37 steps - final reward 27.027027027 - total reward 27.027027027\n",
      "Epoch 7 - loss 1.86829471588 - solved in 171 steps - final reward 5.84795321637 - total reward 5.84795321637\n",
      "Epoch 8 - loss 3.13505673409 - solved in 26 steps - final reward 38.4615384615 - total reward 38.4615384615\n",
      "Epoch 9 - loss 1.77178430557 - solved in 254 steps - final reward 3.93700787402 - total reward 3.93700787402\n",
      "Epoch 10 - loss 1.65742182732 - solved in 88 steps - final reward 11.3636363636 - total reward 11.3636363636\n",
      "Epoch 11 - loss 1.7985188961 - solved in 38 steps - final reward 26.3157894737 - total reward 26.3157894737\n",
      "Epoch 12 - loss 1.78088259697 - solved in 100 steps - final reward 10.0 - total reward 10.0\n",
      "Epoch 13 - loss 0.971441268921 - solved in 192 steps - final reward 5.20833333333 - total reward 5.20833333333\n",
      "Epoch 14 - loss 0.847401738167 - solved in 370 steps - final reward 2.7027027027 - total reward 2.7027027027\n",
      "Epoch 15 - loss 0.837761640549 - solved in 89 steps - final reward 11.2359550562 - total reward 11.2359550562\n",
      "Epoch 16 - loss 0.929001867771 - solved in 34 steps - final reward 29.4117647059 - total reward 29.4117647059\n",
      "Epoch 17 - loss 1.10127532482 - solved in 22 steps - final reward 45.4545454545 - total reward 45.4545454545\n",
      "Epoch 18 - loss 1.13277828693 - solved in 175 steps - final reward 5.71428571429 - total reward 5.71428571429\n",
      "Epoch 19 - loss 1.17189002037 - solved in 52 steps - final reward 19.2307692308 - total reward 19.2307692308\n",
      "Epoch 20 - loss 0.944935500622 - solved in 317 steps - final reward 3.15457413249 - total reward 3.15457413249\n",
      "Epoch 21 - loss 1.38104891777 - solved in 22 steps - final reward 45.4545454545 - total reward 45.4545454545\n",
      "Epoch 22 - loss 1.34567570686 - solved in 29 steps - final reward 34.4827586207 - total reward 34.4827586207\n",
      "Epoch 23 - loss 1.73671281338 - solved in 21 steps - final reward 47.619047619 - total reward 47.619047619\n",
      "Epoch 24 - loss 0.937704801559 - solved in 35 steps - final reward 28.5714285714 - total reward 28.5714285714\n",
      "Epoch 25 - loss 1.58105587959 - solved in 99 steps - final reward 10.101010101 - total reward 10.101010101\n",
      "Epoch 26 - loss 1.28682994843 - solved in 129 steps - final reward 7.7519379845 - total reward 7.7519379845\n",
      "Epoch 27 - loss 2.09649062157 - solved in 47 steps - final reward 21.2765957447 - total reward 21.2765957447\n",
      "Epoch 28 - loss 1.18611109257 - solved in 115 steps - final reward 8.69565217391 - total reward 8.69565217391\n",
      "Epoch 29 - loss 1.51534736156 - solved in 83 steps - final reward 12.0481927711 - total reward 12.0481927711\n",
      "Epoch 30 - loss 1.8369935751 - solved in 26 steps - final reward 38.4615384615 - total reward 38.4615384615\n",
      "Epoch 31 - loss 2.04379463196 - solved in 16 steps - final reward 62.5 - total reward 62.5\n",
      "Epoch 32 - loss 1.77857422829 - solved in 64 steps - final reward 15.625 - total reward 15.625\n",
      "Epoch 33 - loss 1.96756947041 - solved in 71 steps - final reward 14.0845070423 - total reward 14.0845070423\n",
      "Epoch 34 - loss 1.8492988348 - solved in 71 steps - final reward 14.0845070423 - total reward 14.0845070423\n",
      "Epoch 35 - loss 2.41934919357 - solved in 23 steps - final reward 43.4782608696 - total reward 43.4782608696\n",
      "Epoch 36 - loss 3.17850470543 - solved in 17 steps - final reward 58.8235294118 - total reward 58.8235294118\n",
      "Epoch 37 - loss 2.4968996048 - solved in 76 steps - final reward 13.1578947368 - total reward 13.1578947368\n",
      "Epoch 38 - loss 2.84610748291 - solved in 50 steps - final reward 20.0 - total reward 20.0\n",
      "Epoch 39 - loss 3.04531407356 - solved in 34 steps - final reward 29.4117647059 - total reward 29.4117647059\n",
      "Epoch 40 - loss 3.4918589592 - solved in 29 steps - final reward 34.4827586207 - total reward 34.4827586207\n",
      "Epoch 41 - loss 3.83260965347 - solved in 26 steps - final reward 38.4615384615 - total reward 38.4615384615\n",
      "Epoch 42 - loss 4.62764358521 - solved in 25 steps - final reward 40.0 - total reward 40.0\n",
      "Epoch 43 - loss 3.9015212059 - solved in 31 steps - final reward 32.2580645161 - total reward 32.2580645161\n",
      "Epoch 44 - loss 4.63714933395 - solved in 19 steps - final reward 52.6315789474 - total reward 52.6315789474\n",
      "Epoch 45 - loss 3.87522006035 - solved in 18 steps - final reward 55.5555555556 - total reward 55.5555555556\n",
      "Epoch 46 - loss 5.15426158905 - solved in 10 steps - final reward 100.0 - total reward 100.0\n",
      "Epoch 47 - loss 5.12358856201 - solved in 160 steps - final reward 6.25 - total reward 6.25\n",
      "Epoch 48 - loss 8.08037281036 - solved in 16 steps - final reward 62.5 - total reward 62.5\n",
      "Epoch 49 - loss 6.42019557953 - solved in 21 steps - final reward 47.619047619 - total reward 47.619047619\n",
      "Epoch 50 - loss 5.85952663422 - solved in 16 steps - final reward 62.5 - total reward 62.5\n",
      "Epoch 51 - loss 6.4817199707 - solved in 12 steps - final reward 83.3333333333 - total reward 83.3333333333\n",
      "Epoch 52 - loss 7.30077409744 - solved in 39 steps - final reward 25.641025641 - total reward 25.641025641\n",
      "Epoch 53 - loss 11.6973810196 - solved in 13 steps - final reward 76.9230769231 - total reward 76.9230769231\n",
      "Epoch 54 - loss 8.94568443298 - solved in 15 steps - final reward 66.6666666667 - total reward 66.6666666667\n",
      "Epoch 55 - loss 9.47850418091 - solved in 35 steps - final reward 28.5714285714 - total reward 28.5714285714\n",
      "Epoch 56 - loss 15.8223047256 - solved in 25 steps - final reward 40.0 - total reward 40.0\n",
      "Epoch 57 - loss 14.504234314 - solved in 40 steps - final reward 25.0 - total reward 25.0\n",
      "Epoch 58 - loss 14.4825277328 - solved in 14 steps - final reward 71.4285714286 - total reward 71.4285714286\n",
      "Epoch 59 - loss 11.3688831329 - solved in 10 steps - final reward 100.0 - total reward 100.0\n",
      "Epoch 60 - loss 7.69889974594 - solved in 20 steps - final reward 50.0 - total reward 50.0\n",
      "Epoch 61 - loss 14.9027462006 - solved in 27 steps - final reward 37.037037037 - total reward 37.037037037\n",
      "Epoch 62 - loss 15.9549951553 - solved in 22 steps - final reward 45.4545454545 - total reward 45.4545454545\n",
      "Epoch 63 - loss 16.7626972198 - solved in 12 steps - final reward 83.3333333333 - total reward 83.3333333333\n",
      "Epoch 64 - loss 35.1369247437 - solved in 39 steps - final reward 25.641025641 - total reward 25.641025641\n",
      "Epoch 65 - loss 19.2388038635 - solved in 31 steps - final reward 32.2580645161 - total reward 32.2580645161\n",
      "Epoch 66 - loss 19.0522232056 - solved in 18 steps - final reward 55.5555555556 - total reward 55.5555555556\n",
      "Epoch 67 - loss 30.9471969604 - solved in 71 steps - final reward 14.0845070423 - total reward 14.0845070423\n",
      "Epoch 68 - loss 20.7327327728 - solved in 101 steps - final reward 9.90099009901 - total reward 9.90099009901\n",
      "Epoch 69 - loss 10.9312677383 - solved in 27 steps - final reward 37.037037037 - total reward 37.037037037\n",
      "Epoch 70 - loss 14.2986392975 - solved in 11 steps - final reward 90.9090909091 - total reward 90.9090909091\n",
      "Epoch 71 - loss 22.4483604431 - solved in 18 steps - final reward 55.5555555556 - total reward 55.5555555556\n",
      "Epoch 72 - loss 45.0630989075 - solved in 24 steps - final reward 41.6666666667 - total reward 41.6666666667\n",
      "Epoch 73 - loss 18.965461731 - solved in 16 steps - final reward 62.5 - total reward 62.5\n",
      "Epoch 74 - loss 21.0131721497 - solved in 6 steps - final reward 166.666666667 - total reward 166.666666667\n",
      "Epoch 75 - loss 72.5665130615 - solved in 56 steps - final reward 17.8571428571 - total reward 17.8571428571\n",
      "Epoch 76 - loss 23.0308208466 - solved in 288 steps - final reward 3.47222222222 - total reward 3.47222222222\n",
      "Epoch 77 - loss 36.2755012512 - solved in 74 steps - final reward 13.5135135135 - total reward 13.5135135135\n",
      "Epoch 78 - loss 20.6507339478 - solved in 23 steps - final reward 43.4782608696 - total reward 43.4782608696\n",
      "Epoch 79 - loss 49.6587371826 - solved in 52 steps - final reward 19.2307692308 - total reward 19.2307692308\n",
      "Epoch 80 - loss 19.7108802795 - solved in 62 steps - final reward 16.1290322581 - total reward 16.1290322581\n",
      "Epoch 81 - loss 38.0546531677 - solved in 22 steps - final reward 45.4545454545 - total reward 45.4545454545\n",
      "Epoch 82 - loss 19.2763061523 - solved in 15 steps - final reward 66.6666666667 - total reward 66.6666666667\n",
      "Epoch 83 - loss 60.7390708923 - solved in 60 steps - final reward 16.6666666667 - total reward 16.6666666667\n",
      "Epoch 84 - loss 17.3886795044 - solved in 181 steps - final reward 5.52486187845 - total reward 5.52486187845\n",
      "Epoch 85 - loss 18.3400611877 - solved in 19 steps - final reward 52.6315789474 - total reward 52.6315789474\n",
      "Epoch 86 - loss 27.4419803619 - solved in 15 steps - final reward 66.6666666667 - total reward 66.6666666667\n",
      "Epoch 87 - loss 43.4673843384 - solved in 20 steps - final reward 50.0 - total reward 50.0\n",
      "Epoch 88 - loss 27.4382457733 - solved in 6 steps - final reward 166.666666667 - total reward 166.666666667\n",
      "Epoch 89 - loss 33.8171615601 - solved in 93 steps - final reward 10.752688172 - total reward 10.752688172\n",
      "Epoch 90 - loss 13.6937046051 - solved in 50 steps - final reward 20.0 - total reward 20.0\n",
      "Epoch 91 - loss 27.1783180237 - solved in 31 steps - final reward 32.2580645161 - total reward 32.2580645161\n",
      "Epoch 92 - loss 51.6379585266 - solved in 27 steps - final reward 37.037037037 - total reward 37.037037037\n",
      "Epoch 93 - loss 35.7671432495 - solved in 46 steps - final reward 21.7391304348 - total reward 21.7391304348\n",
      "Epoch 94 - loss 18.060880661 - solved in 27 steps - final reward 37.037037037 - total reward 37.037037037\n",
      "Epoch 95 - loss 17.8377017975 - solved in 7 steps - final reward 142.857142857 - total reward 142.857142857\n",
      "Epoch 96 - loss 20.7215270996 - solved in 9 steps - final reward 111.111111111 - total reward 111.111111111\n",
      "Epoch 97 - loss 23.0064888 - solved in 9 steps - final reward 111.111111111 - total reward 111.111111111\n",
      "Epoch 98 - loss 67.2096405029 - solved in 44 steps - final reward 22.7272727273 - total reward 22.7272727273\n",
      "Epoch 99 - loss 22.6640415192 - solved in 92 steps - final reward 10.8695652174 - total reward 10.8695652174\n"
     ]
    }
   ],
   "source": [
    "verbose = False\n",
    "\n",
    "num_epochs = 100\n",
    "for epoch, epsilon, memory_size in zip(range(num_epochs), np.linspace(1., 0.05, num_epochs), np.linspace(5000, 1000, num_epochs)):    \n",
    "    state = env.reset()\n",
    "    done = False\n",
    "    loss_epoch = []\n",
    "    rewards_epoch = []\n",
    "    time = 0\n",
    "    \n",
    "    while not done and time < max_num_steps:\n",
    "        time += 1\n",
    "        \n",
    "        if np.random.rand() <= epsilon:\n",
    "            action = np.random.randint(4)\n",
    "            if verbose: print 'choosing random action {} ({}),'.format(action, env.action_to_label[action]),\n",
    "        else:\n",
    "            Q = model.predict(state.reshape(1, -1))\n",
    "            action = np.argmax(Q)\n",
    "            if verbose: print 'choosing best action {} ({}),'.format(action, env.action_to_label[action]),\n",
    "\n",
    "        new_state, reward, done, info = env.step(action)\n",
    "        if verbose: print 'reward {}'.format(reward)\n",
    "            \n",
    "        memory.append([state, action, reward, new_state, done])\n",
    "        while len(memory) > memory_size:  # only keep the most recent experiences in memory\n",
    "            del memory[0]\n",
    "        \n",
    "        # Replay memories and train network.\n",
    "        actual_batch_size = min(batch_size, len(memory))\n",
    "        inputs = np.zeros((actual_batch_size, mx * my))\n",
    "        targets = np.zeros((actual_batch_size, 4))\n",
    " \n",
    "        # TODO: Maybe train multiple batches at once.\n",
    "        for i, j in enumerate(np.random.choice(len(memory), size=actual_batch_size, replace=False)):\n",
    "            s, a, r, new_s, d = memory[j]\n",
    "            inputs[i] = s.flatten()\n",
    "            Q = model.predict(s.reshape(1, -1))[0]\n",
    "            targets[i] = Q\n",
    "            if done:\n",
    "                targets[i, a] = r\n",
    "            else:\n",
    "                Q_new = model.predict(new_s.reshape(1, -1))[0]\n",
    "                targets[i, a] = r + gamma * np.max(Q_new)\n",
    "\n",
    "        loss_epoch.append(model.train_on_batch(inputs, targets)[0])\n",
    "        rewards_epoch.append(reward)\n",
    "        \n",
    "        state = new_state    \n",
    "        heatmap[info['player_position']] += 1\n",
    "        \n",
    "    history.append(info['time'])\n",
    "    print 'Epoch {} - loss {} - {} {} steps - final reward {} - total reward {}'.format(epoch, np.mean(loss_epoch), 'solved in' if done else 'aborted after', time, reward, np.sum(rewards_epoch))\n",
    "    loss.append(np.mean(loss_epoch))\n",
    "    total_rewards.append(np.sum(rewards_epoch))\n",
    "    memory_lens.append(len(memory))\n",
    "    \n",
    "    if verbose: print 'Finished in {} steps'.format(info['time'])\n",
    "    if verbose: print"
   ]
  },
  {
   "cell_type": "code",
   "execution_count": 8,
   "metadata": {
    "ExecuteTime": {
     "end_time": "2016-06-06T04:00:25.620000",
     "start_time": "2016-06-06T04:00:25.334000"
    },
    "collapsed": false
   },
   "outputs": [
    {
     "data": {
      "text/plain": [
       "<matplotlib.text.Text at 0x125fe650>"
      ]
     },
     "execution_count": 8,
     "metadata": {},
     "output_type": "execute_result"
    },
    {
     "data": {
      "image/png": "[encoded data removed]",
      "text/plain": [
       "<matplotlib.figure.Figure at 0x12689390>"
      ]
     },
     "metadata": {},
     "output_type": "display_data"
    }
   ],
   "source": [
    "plt.plot(history)\n",
    "plt.xlabel('Epoch')\n",
    "plt.ylabel('Time steps to solve maze')\n",
    "#plt.ylim(0, 10000)"
   ]
  },
  {
   "cell_type": "code",
   "execution_count": 9,
   "metadata": {
    "ExecuteTime": {
     "end_time": "2016-06-06T04:00:29.069000",
     "start_time": "2016-06-06T04:00:28.794000"
    },
    "collapsed": false
   },
   "outputs": [
    {
     "data": {
      "text/plain": [
       "<matplotlib.text.Text at 0x12aa0d30>"
      ]
     },
     "execution_count": 9,
     "metadata": {},
     "output_type": "execute_result"
    },
    {
     "data": {
      "image/png": "[encoded data removed]",
      "text/plain": [
       "<matplotlib.figure.Figure at 0x125ce870>"
      ]
     },
     "metadata": {},
     "output_type": "display_data"
    }
   ],
   "source": [
    "plt.plot(loss)\n",
    "plt.xlabel('Epoch')\n",
    "plt.ylabel('Loss')"
   ]
  },
  {
   "cell_type": "code",
   "execution_count": 10,
   "metadata": {
    "ExecuteTime": {
     "end_time": "2016-06-06T04:00:32.105000",
     "start_time": "2016-06-06T04:00:31.845000"
    },
    "collapsed": false
   },
   "outputs": [
    {
     "data": {
      "text/plain": [
       "<matplotlib.text.Text at 0x12b5df90>"
      ]
     },
     "execution_count": 10,
     "metadata": {},
     "output_type": "execute_result"
    },
    {
     "data": {
      "image/png": "[encoded data removed]",
      "text/plain": [
       "<matplotlib.figure.Figure at 0x1352b330>"
      ]
     },
     "metadata": {},
     "output_type": "display_data"
    }
   ],
   "source": [
    "plt.plot(total_rewards)\n",
    "plt.xlabel('Epoch')\n",
    "plt.ylabel('Total reward')"
   ]
  },
  {
   "cell_type": "code",
   "execution_count": 11,
   "metadata": {
    "ExecuteTime": {
     "end_time": "2016-06-06T04:00:39.710000",
     "start_time": "2016-06-06T04:00:39.461000"
    },
    "collapsed": false
   },
   "outputs": [
    {
     "data": {
      "text/plain": [
       "<matplotlib.text.Text at 0x5e08150>"
      ]
     },
     "execution_count": 11,
     "metadata": {},
     "output_type": "execute_result"
    },
    {
     "data": {
      "image/png": "[encoded data removed]",
      "text/plain": [
       "<matplotlib.figure.Figure at 0x12689310>"
      ]
     },
     "metadata": {},
     "output_type": "display_data"
    }
   ],
   "source": [
    "plt.plot(memory_lens)\n",
    "plt.xlabel('Epoch')\n",
    "plt.ylabel('Memory length')"
   ]
  },
  {
   "cell_type": "code",
   "execution_count": 141,
   "metadata": {
    "ExecuteTime": {
     "end_time": "2016-06-05T22:31:39.342000",
     "start_time": "2016-06-05T22:31:39.112000"
    },
    "collapsed": false
   },
   "outputs": [
    {
     "data": {
      "text/plain": [
       "(-0.5, 4.5)"
      ]
     },
     "execution_count": 141,
     "metadata": {},
     "output_type": "execute_result"
    },
    {
     "data": {
      "image/png": "[encoded data removed]",
      "text/plain": [
       "<matplotlib.figure.Figure at 0x1217deb0>"
      ]
     },
     "metadata": {},
     "output_type": "display_data"
    }
   ],
   "source": [
    "plt.imshow(heatmap.T, interpolation='none', origin='lower', cmap='Blues')\n",
    "plt.plot(env.treasure[0], env.treasure[1], 'y*', mec='none', markersize=17)  # TODO: Maybe do not get treasure variable directly.\n",
    "plt.xlim(-0.5, mx - 0.5)\n",
    "plt.ylim(-0.5, my - 0.5)"
   ]
  },
  {
   "cell_type": "code",
   "execution_count": null,
   "metadata": {
    "ExecuteTime": {
     "end_time": "2016-06-03T16:23:35.193000",
     "start_time": "2016-06-03T16:23:34.468000"
    },
    "collapsed": false
   },
   "outputs": [],
   "source": [
    "# Plot arrows for each direction, where the arrow width represents the Q value.\n",
    "env.reset()\n",
    "env.render()\n",
    "arrow_length = 0.2\n",
    "c = 'k'\n",
    "width_factor = 0.001 / np.max(Q)\n",
    "for x in range(mx):\n",
    "    for y in range(my):\n",
    "        plt.arrow(x, y, 0., arrow_length, ec=c, fc=c, width=width_factor*Q[state_index((x, y)), 0])  # up\n",
    "        plt.arrow(x, y, 0., -arrow_length, ec=c, fc=c, width=width_factor*Q[state_index((x, y)), 1])  # down\n",
    "        plt.arrow(x, y, -arrow_length, 0., ec=c, fc=c, width=width_factor*Q[state_index((x, y)), 2])  # left\n",
    "        plt.arrow(x, y, arrow_length, 0., ec=c, fc=c, width=width_factor*Q[state_index((x, y)), 3])  # right"
   ]
  },
  {
   "cell_type": "code",
   "execution_count": null,
   "metadata": {
    "ExecuteTime": {
     "end_time": "2016-06-03T16:23:35.631000",
     "start_time": "2016-06-03T16:23:35.249000"
    },
    "collapsed": false
   },
   "outputs": [],
   "source": [
    "# Plot arrow for the direction with the highest Q value.\n",
    "env.reset()\n",
    "env.render()\n",
    "l = 0.3\n",
    "c = 'k'\n",
    "w = 0.01\n",
    "for x in range(mx):\n",
    "    for y in range(my):\n",
    "        best_action = np.argmax(Q[state_index((x, y))])\n",
    "        if best_action == 0:            \n",
    "            plt.arrow(x, y-0.5*l, 0, l, ec=c, fc=c, width=w)  # up\n",
    "        elif best_action == 1:\n",
    "            plt.arrow(x, y+0.5*l, 0., -l, ec=c, fc=c, width=w)  # down\n",
    "        elif best_action == 2:\n",
    "            plt.arrow(x+0.5*l, y, -l, 0., ec=c, fc=c, width=w)  # left\n",
    "        elif best_action == 3:\n",
    "            plt.arrow(x-0.5*l, y, l, 0., ec=c, fc=c, width=w)  # right"
   ]
  },
  {
   "cell_type": "code",
   "execution_count": 142,
   "metadata": {
    "ExecuteTime": {
     "end_time": "2016-06-05T22:31:44.438000",
     "start_time": "2016-06-05T22:31:44.188000"
    },
    "collapsed": false
   },
   "outputs": [
    {
     "name": "stdout",
     "output_type": "stream",
     "text": [
      "choosing best action 3 (right), reward 0.0\n",
      "choosing best action 3 (right), reward 0.0\n",
      "choosing best action 3 (right), reward 0.0\n",
      "choosing best action 3 (right), reward 0.0\n",
      "choosing best action 3 (right), reward 0.0\n",
      "choosing best action 3 (right), reward 0.0\n",
      "choosing random action 1 (down), reward 0.0\n",
      "choosing best action 3 (right), reward 0.0\n",
      "choosing best action 3 (right), reward 0.0\n",
      "choosing best action 3 (right), reward 0.0\n",
      "choosing best action 3 (right), reward 0.0\n",
      "choosing best action 3 (right), reward 0.0\n",
      "choosing best action 3 (right), reward 0.0\n",
      "choosing best action 3 (right), reward 0.0\n",
      "choosing best action 3 (right), reward 0.0\n",
      "choosing best action 3 (right), reward 0.0\n",
      "choosing best action 3 (right), reward 0.0\n",
      "choosing best action 3 (right), reward 0.0\n",
      "choosing best action 3 (right), reward 0.0\n",
      "choosing best action 3 (right), reward 0.0\n",
      "choosing best action 3 (right), reward 0.0\n",
      "choosing best action 3 (right), reward 0.0\n",
      "choosing best action 3 (right), reward 0.0\n",
      "choosing random action 1 (down), reward 0.0\n",
      "choosing random action 0 (up), reward 0.0\n",
      "choosing best action 3 (right), reward 0.0\n",
      "choosing best action 3 (right), reward 0.0\n",
      "choosing best action 3 (right), reward 0.0\n",
      "choosing best action 3 (right), reward 0.0\n",
      "choosing best action 3 (right), reward 0.0\n",
      "choosing best action 3 (right), reward 0.0\n",
      "choosing random action 2 (left), reward 0.0\n",
      "choosing random action 3 (right), reward 0.0\n",
      "choosing best action 3 (right), reward 0.0\n",
      "choosing best action 3 (right), reward 0.0\n",
      "choosing best action 3 (right), reward 0.0\n",
      "choosing best action 3 (right), reward 0.0\n",
      "choosing best action 3 (right), reward 0.0\n",
      "choosing best action 3 (right), reward 0.0\n",
      "choosing best action 3 (right), reward 0.0\n",
      "choosing best action 3 (right), reward 0.0\n",
      "choosing best action 3 (right), reward 0.0\n",
      "choosing best action 3 (right), reward 0.0\n",
      "choosing best action 3 (right), reward 0.0\n",
      "choosing best action 3 (right), reward 0.0\n",
      "choosing best action 3 (right), reward 0.0\n",
      "choosing best action 3 (right), reward 0.0\n",
      "choosing random action 1 (down), reward 0.0\n",
      "choosing best action 3 (right), reward 0.0\n",
      "choosing random action 2 (left), reward 0.0\n",
      "choosing best action 3 (right), reward 0.0\n",
      "choosing random action 1 (down), reward 0.0\n",
      "choosing best action 3 (right), reward 0.0\n",
      "choosing best action 3 (right), reward 0.0\n",
      "choosing best action 3 (right), reward 0.0\n",
      "choosing best action 3 (right), reward 0.0\n",
      "choosing best action 3 (right), reward 0.0\n",
      "choosing best action 3 (right), reward 0.0\n",
      "choosing best action 3 (right), reward 0.0\n",
      "choosing best action 3 (right), reward 0.0\n",
      "choosing best action 3 (right), reward 0.0\n",
      "choosing best action 3 (right), reward 0.0\n",
      "choosing best action 3 (right), reward 0.0\n",
      "choosing best action 3 (right), reward 0.0\n",
      "choosing best action 3 (right), reward 0.0\n",
      "choosing best action 3 (right), reward 0.0\n",
      "choosing best action 3 (right), reward 0.0\n",
      "choosing best action 3 (right), reward 0.0\n",
      "choosing best action 3 (right), reward 0.0\n",
      "choosing best action 3 (right), reward 0.0\n",
      "choosing best action 3 (right), reward 0.0\n",
      "choosing best action 3 (right), reward 0.0\n",
      "choosing best action 3 (right), reward 0.0\n",
      "choosing best action 3 (right), reward 0.0\n",
      "choosing best action 3 (right), reward 0.0\n",
      "choosing best action 3 (right), reward 0.0\n",
      "choosing best action 3 (right), reward 0.0\n",
      "choosing best action 3 (right), reward 0.0\n",
      "choosing best action 3 (right), reward 0.0\n",
      "choosing best action 3 (right), reward 0.0\n",
      "choosing best action 3 (right), reward 0.0\n",
      "choosing best action 3 (right), reward 0.0\n",
      "choosing best action 3 (right), reward 0.0\n",
      "choosing random action 0 (up), reward 0.0\n",
      "choosing best action 0 (up), reward 0.0\n",
      "choosing best action 0 (up), reward 0.0\n",
      "choosing best action 2 (left), reward 11.4942528736\n",
      "Finished in 87 steps\n"
     ]
    },
    {
     "data": {
      "image/png": "[encoded data removed]",
      "text/plain": [
       "<matplotlib.figure.Figure at 0x153f7df0>"
      ]
     },
     "metadata": {},
     "output_type": "display_data"
    }
   ],
   "source": [
    "# Single run.\n",
    "verbose = True\n",
    "epsilon = 0.1#1 #0.05\n",
    "\n",
    "state = env.reset()\n",
    "done = False\n",
    "\n",
    "Q_history = []\n",
    "\n",
    "while not done and time < max_num_steps:\n",
    "#     if verbose: print 'State {} (index {}),'.format(state, state_index(state)),\n",
    "        \n",
    "    if np.random.rand() <= epsilon:\n",
    "        action = np.random.randint(4)\n",
    "        if verbose: print 'choosing random action {} ({}),'.format(action, env.action_to_label[action]),\n",
    "    else:\n",
    "        Q = model.predict(state.reshape(1, -1))[0]\n",
    "        Q_history.append(Q)\n",
    "        action = np.argmax(Q)\n",
    "        if verbose: print 'choosing best action {} ({}),'.format(action, env.action_to_label[action]),\n",
    "\n",
    "    new_state, reward, done, info = env.step(action)\n",
    "    if verbose: print 'reward {}'.format(reward)\n",
    "\n",
    "    state = new_state\n",
    "    \n",
    "print 'Finished in {} steps'.format(info['time'])\n",
    "    \n",
    "env.render()"
   ]
  },
  {
   "cell_type": "code",
   "execution_count": 143,
   "metadata": {
    "ExecuteTime": {
     "end_time": "2016-06-05T22:31:57.601000",
     "start_time": "2016-06-05T22:31:57.216000"
    },
    "collapsed": false
   },
   "outputs": [
    {
     "data": {
      "text/plain": [
       "<matplotlib.text.Text at 0x154fea70>"
      ]
     },
     "execution_count": 143,
     "metadata": {},
     "output_type": "execute_result"
    },
    {
     "data": {
      "image/png": "[encoded data removed]",
      "text/plain": [
       "<matplotlib.figure.Figure at 0x16a5f450>"
      ]
     },
     "metadata": {},
     "output_type": "display_data"
    }
   ],
   "source": [
    "plt.figure(figsize=(3, 30))\n",
    "plt.imshow(Q_history, interpolation='none')\n",
    "plt.xticks(env.action_to_label.keys(), env.action_to_label.values(), rotation='vertical')\n",
    "plt.colorbar()\n",
    "plt.ylabel('Step')"
   ]
  },
  {
   "cell_type": "code",
   "execution_count": null,
   "metadata": {
    "collapsed": true
   },
   "outputs": [],
   "source": []
  }
 ],
 "metadata": {
  "kernelspec": {
   "display_name": "Python 2",
   "language": "python",
   "name": "python2"
  },
  "language_info": {
   "codemirror_mode": {
    "name": "ipython",
    "version": 2
   },
   "file_extension": ".py",
   "mimetype": "text/x-python",
   "name": "python",
   "nbconvert_exporter": "python",
   "pygments_lexer": "ipython2",
   "version": "2.7.8"
  }
 },
 "nbformat": 4,
 "nbformat_minor": 0
}
